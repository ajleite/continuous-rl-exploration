{
 "cells": [
  {
   "cell_type": "code",
   "execution_count": null,
   "id": "a4aa660f",
   "metadata": {},
   "outputs": [],
   "source": [
    "# This code can be used to add a folder in the repository to the Python import\n",
    "# path, irrespective of whether the notebook is being run in colab or Jupyter.\n",
    "# (C) 2020 Abe Leite, Indiana University Bloomington\n",
    "# This code block is released under MIT license. Feel free to make use of\n",
    "# this code in any projects so long as you reproduce this text.\n",
    "\n",
    "import os\n",
    "import sys\n",
    "import subprocess\n",
    "\n",
    "repo_URL = 'https://github.com/ajleite/discrete-rl-exploration'\n",
    "repo_name = repo_URL.split('/')[-1]\n",
    "# top level of repository. --AL Mar 10 2022\n",
    "code_folder = ''\n",
    "\n",
    "try:\n",
    "  repo_path = subprocess.check_output('git rev-parse --show-toplevel', shell=True).decode().strip()\n",
    "except subprocess.CalledProcessError:\n",
    "  os.system(f'git clone {repo_URL} --depth 1')\n",
    "  repo_path = os.path.abspath(repo_name)\n",
    "\n",
    "code_path = os.path.join(repo_path, code_folder)\n",
    "sys.path.append(code_path)\n",
    "print(f'Loading code from {code_path}')\n",
    "\n",
    "# we'll go further in order to work with saved models. --AL Mar 10 2022\n",
    "os.chdir(code_path)"
   ]
  },
  {
   "cell_type": "code",
   "execution_count": null,
   "id": "9c70295b",
   "metadata": {},
   "outputs": [],
   "source": [
    "import main"
   ]
  },
  {
   "cell_type": "code",
   "execution_count": null,
   "id": "6076a17e",
   "metadata": {},
   "outputs": [],
   "source": [
    "# already done, but you can totally uncomment this if you have a few days of GPU time to burn\n",
    "# main.generate_agents()"
   ]
  },
  {
   "cell_type": "code",
   "execution_count": null,
   "id": "c0ac04d7",
   "metadata": {},
   "outputs": [],
   "source": [
    "main.evaluate_agents()"
   ]
  },
  {
   "cell_type": "code",
   "execution_count": null,
   "id": "87ce99e4",
   "metadata": {},
   "outputs": [],
   "source": [
    "main.generate_plots()\n",
    "\n",
    "# in case we're beholden to the corporate overlords\n",
    "try:\n",
    "    from google.colab import files\n",
    "    !zip -r plots.zip plots/\n",
    "    files.download('plots.zip')\n",
    "    !rm plots.zip\n",
    "except ImportError:\n",
    "    print(\"I'm so glad you're running this locally! Please see the generated plot files here: \"+os.path.join(code_path, 'plots'))"
   ]
  },
  {
   "cell_type": "code",
   "execution_count": null,
   "id": "87bce477",
   "metadata": {},
   "outputs": [],
   "source": []
  }
 ],
 "metadata": {
  "kernelspec": {
   "display_name": "Python 3 (ipykernel)",
   "language": "python",
   "name": "python3"
  },
  "language_info": {
   "codemirror_mode": {
    "name": "ipython",
    "version": 3
   },
   "file_extension": ".py",
   "mimetype": "text/x-python",
   "name": "python",
   "nbconvert_exporter": "python",
   "pygments_lexer": "ipython3",
   "version": "3.10.2"
  }
 },
 "nbformat": 4,
 "nbformat_minor": 5
}
